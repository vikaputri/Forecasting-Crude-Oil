{
 "cells": [
  {
   "cell_type": "code",
   "execution_count": 1,
   "id": "f887c6b5",
   "metadata": {
    "execution": {
     "iopub.execute_input": "2023-01-25T08:23:01.143699Z",
     "iopub.status.busy": "2023-01-25T08:23:01.143066Z",
     "iopub.status.idle": "2023-01-25T08:23:15.969918Z",
     "shell.execute_reply": "2023-01-25T08:23:15.968549Z"
    },
    "id": "tfErJ4NaosLt",
    "outputId": "e154b445-bfef-4168-c6ad-6d6438e63e7a",
    "papermill": {
     "duration": 14.839288,
     "end_time": "2023-01-25T08:23:15.972777",
     "exception": false,
     "start_time": "2023-01-25T08:23:01.133489",
     "status": "completed"
    },
    "tags": []
   },
   "outputs": [
    {
     "name": "stdout",
     "output_type": "stream",
     "text": [
      "Collecting yfinance\r\n",
      "  Downloading yfinance-0.2.4-py2.py3-none-any.whl (51 kB)\r\n",
      "\u001b[2K     \u001b[90m━━━━━━━━━━━━━━━━━━━━━━━━━━━━━━━━━━━━━━━\u001b[0m \u001b[32m51.4/51.4 kB\u001b[0m \u001b[31m417.3 kB/s\u001b[0m eta \u001b[36m0:00:00\u001b[0m\r\n",
      "\u001b[?25hRequirement already satisfied: html5lib>=1.1 in /opt/conda/lib/python3.7/site-packages (from yfinance) (1.1)\r\n",
      "Requirement already satisfied: requests>=2.26 in /opt/conda/lib/python3.7/site-packages (from yfinance) (2.28.1)\r\n",
      "Requirement already satisfied: beautifulsoup4>=4.11.1 in /opt/conda/lib/python3.7/site-packages (from yfinance) (4.11.1)\r\n",
      "Requirement already satisfied: frozendict>=2.3.4 in /opt/conda/lib/python3.7/site-packages (from yfinance) (2.3.4)\r\n",
      "Requirement already satisfied: numpy>=1.16.5 in /opt/conda/lib/python3.7/site-packages (from yfinance) (1.21.6)\r\n",
      "Requirement already satisfied: lxml>=4.9.1 in /opt/conda/lib/python3.7/site-packages (from yfinance) (4.9.2)\r\n",
      "Requirement already satisfied: appdirs>=1.4.4 in /opt/conda/lib/python3.7/site-packages (from yfinance) (1.4.4)\r\n",
      "Collecting multitasking>=0.0.7\r\n",
      "  Downloading multitasking-0.0.11-py3-none-any.whl (8.5 kB)\r\n",
      "Requirement already satisfied: cryptography>=3.3.2 in /opt/conda/lib/python3.7/site-packages (from yfinance) (37.0.2)\r\n",
      "Collecting pytz>=2022.5\r\n",
      "  Downloading pytz-2022.7.1-py2.py3-none-any.whl (499 kB)\r\n",
      "\u001b[2K     \u001b[90m━━━━━━━━━━━━━━━━━━━━━━━━━━━━━━━━━━━━━━━\u001b[0m \u001b[32m499.4/499.4 kB\u001b[0m \u001b[31m2.1 MB/s\u001b[0m eta \u001b[36m0:00:00\u001b[0m\r\n",
      "\u001b[?25hRequirement already satisfied: pandas>=1.3.0 in /opt/conda/lib/python3.7/site-packages (from yfinance) (1.3.5)\r\n",
      "Requirement already satisfied: soupsieve>1.2 in /opt/conda/lib/python3.7/site-packages (from beautifulsoup4>=4.11.1->yfinance) (2.3.1)\r\n",
      "Requirement already satisfied: cffi>=1.12 in /opt/conda/lib/python3.7/site-packages (from cryptography>=3.3.2->yfinance) (1.15.0)\r\n",
      "Requirement already satisfied: webencodings in /opt/conda/lib/python3.7/site-packages (from html5lib>=1.1->yfinance) (0.5.1)\r\n",
      "Requirement already satisfied: six>=1.9 in /opt/conda/lib/python3.7/site-packages (from html5lib>=1.1->yfinance) (1.15.0)\r\n",
      "Requirement already satisfied: python-dateutil>=2.7.3 in /opt/conda/lib/python3.7/site-packages (from pandas>=1.3.0->yfinance) (2.8.2)\r\n",
      "Requirement already satisfied: urllib3<1.27,>=1.21.1 in /opt/conda/lib/python3.7/site-packages (from requests>=2.26->yfinance) (1.26.13)\r\n",
      "Requirement already satisfied: idna<4,>=2.5 in /opt/conda/lib/python3.7/site-packages (from requests>=2.26->yfinance) (3.3)\r\n",
      "Requirement already satisfied: charset-normalizer<3,>=2 in /opt/conda/lib/python3.7/site-packages (from requests>=2.26->yfinance) (2.1.0)\r\n",
      "Requirement already satisfied: certifi>=2017.4.17 in /opt/conda/lib/python3.7/site-packages (from requests>=2.26->yfinance) (2022.12.7)\r\n",
      "Requirement already satisfied: pycparser in /opt/conda/lib/python3.7/site-packages (from cffi>=1.12->cryptography>=3.3.2->yfinance) (2.21)\r\n",
      "Installing collected packages: pytz, multitasking, yfinance\r\n",
      "  Attempting uninstall: pytz\r\n",
      "    Found existing installation: pytz 2022.1\r\n",
      "    Uninstalling pytz-2022.1:\r\n",
      "      Successfully uninstalled pytz-2022.1\r\n",
      "\u001b[31mERROR: pip's dependency resolver does not currently take into account all the packages that are installed. This behaviour is the source of the following dependency conflicts.\r\n",
      "beatrix-jupyterlab 3.1.7 requires google-cloud-bigquery-storage, which is not installed.\r\n",
      "pandas-profiling 3.1.0 requires markupsafe~=2.0.1, but you have markupsafe 2.1.1 which is incompatible.\r\n",
      "apache-beam 2.40.0 requires dill<0.3.2,>=0.3.1.1, but you have dill 0.3.6 which is incompatible.\r\n",
      "apache-beam 2.40.0 requires pyarrow<8.0.0,>=0.15.1, but you have pyarrow 8.0.0 which is incompatible.\u001b[0m\u001b[31m\r\n",
      "\u001b[0mSuccessfully installed multitasking-0.0.11 pytz-2022.7.1 yfinance-0.2.4\r\n",
      "\u001b[33mWARNING: Running pip as the 'root' user can result in broken permissions and conflicting behaviour with the system package manager. It is recommended to use a virtual environment instead: https://pip.pypa.io/warnings/venv\u001b[0m\u001b[33m\r\n",
      "\u001b[0m"
     ]
    }
   ],
   "source": [
    "!pip install yfinance"
   ]
  },
  {
   "cell_type": "code",
   "execution_count": 2,
   "id": "2d474fc5",
   "metadata": {
    "execution": {
     "iopub.execute_input": "2023-01-25T08:23:15.990961Z",
     "iopub.status.busy": "2023-01-25T08:23:15.990223Z",
     "iopub.status.idle": "2023-01-25T08:23:17.033947Z",
     "shell.execute_reply": "2023-01-25T08:23:17.032665Z"
    },
    "id": "B5EJ7jdOovap",
    "outputId": "6cf040cc-26f3-40dc-e2e2-81086ed0c356",
    "papermill": {
     "duration": 1.055709,
     "end_time": "2023-01-25T08:23:17.036519",
     "exception": false,
     "start_time": "2023-01-25T08:23:15.980810",
     "status": "completed"
    },
    "tags": []
   },
   "outputs": [
    {
     "data": {
      "text/html": [
       "<div>\n",
       "<style scoped>\n",
       "    .dataframe tbody tr th:only-of-type {\n",
       "        vertical-align: middle;\n",
       "    }\n",
       "\n",
       "    .dataframe tbody tr th {\n",
       "        vertical-align: top;\n",
       "    }\n",
       "\n",
       "    .dataframe thead th {\n",
       "        text-align: right;\n",
       "    }\n",
       "</style>\n",
       "<table border=\"1\" class=\"dataframe\">\n",
       "  <thead>\n",
       "    <tr style=\"text-align: right;\">\n",
       "      <th></th>\n",
       "      <th>Open</th>\n",
       "      <th>High</th>\n",
       "      <th>Low</th>\n",
       "      <th>Close</th>\n",
       "      <th>Adj Close</th>\n",
       "      <th>Volume</th>\n",
       "    </tr>\n",
       "    <tr>\n",
       "      <th>Date</th>\n",
       "      <th></th>\n",
       "      <th></th>\n",
       "      <th></th>\n",
       "      <th></th>\n",
       "      <th></th>\n",
       "      <th></th>\n",
       "    </tr>\n",
       "  </thead>\n",
       "  <tbody>\n",
       "    <tr>\n",
       "      <th>2020-01-27 00:00:00-05:00</th>\n",
       "      <td>60.279999</td>\n",
       "      <td>60.490002</td>\n",
       "      <td>58.50</td>\n",
       "      <td>59.320000</td>\n",
       "      <td>59.320000</td>\n",
       "      <td>39367</td>\n",
       "    </tr>\n",
       "    <tr>\n",
       "      <th>2020-01-28 00:00:00-05:00</th>\n",
       "      <td>58.950001</td>\n",
       "      <td>60.110001</td>\n",
       "      <td>58.50</td>\n",
       "      <td>59.509998</td>\n",
       "      <td>59.509998</td>\n",
       "      <td>41537</td>\n",
       "    </tr>\n",
       "    <tr>\n",
       "      <th>2020-01-29 00:00:00-05:00</th>\n",
       "      <td>59.669998</td>\n",
       "      <td>60.610001</td>\n",
       "      <td>59.25</td>\n",
       "      <td>59.810001</td>\n",
       "      <td>59.810001</td>\n",
       "      <td>21453</td>\n",
       "    </tr>\n",
       "    <tr>\n",
       "      <th>2020-01-30 00:00:00-05:00</th>\n",
       "      <td>59.610001</td>\n",
       "      <td>59.610001</td>\n",
       "      <td>57.73</td>\n",
       "      <td>58.290001</td>\n",
       "      <td>58.290001</td>\n",
       "      <td>17435</td>\n",
       "    </tr>\n",
       "    <tr>\n",
       "      <th>2020-01-31 00:00:00-05:00</th>\n",
       "      <td>59.070000</td>\n",
       "      <td>59.529999</td>\n",
       "      <td>57.98</td>\n",
       "      <td>58.160000</td>\n",
       "      <td>58.160000</td>\n",
       "      <td>578</td>\n",
       "    </tr>\n",
       "  </tbody>\n",
       "</table>\n",
       "</div>"
      ],
      "text/plain": [
       "                                Open       High    Low      Close  Adj Close  \\\n",
       "Date                                                                           \n",
       "2020-01-27 00:00:00-05:00  60.279999  60.490002  58.50  59.320000  59.320000   \n",
       "2020-01-28 00:00:00-05:00  58.950001  60.110001  58.50  59.509998  59.509998   \n",
       "2020-01-29 00:00:00-05:00  59.669998  60.610001  59.25  59.810001  59.810001   \n",
       "2020-01-30 00:00:00-05:00  59.610001  59.610001  57.73  58.290001  58.290001   \n",
       "2020-01-31 00:00:00-05:00  59.070000  59.529999  57.98  58.160000  58.160000   \n",
       "\n",
       "                           Volume  \n",
       "Date                               \n",
       "2020-01-27 00:00:00-05:00   39367  \n",
       "2020-01-28 00:00:00-05:00   41537  \n",
       "2020-01-29 00:00:00-05:00   21453  \n",
       "2020-01-30 00:00:00-05:00   17435  \n",
       "2020-01-31 00:00:00-05:00     578  "
      ]
     },
     "execution_count": 2,
     "metadata": {},
     "output_type": "execute_result"
    }
   ],
   "source": [
    "import yfinance as yf\n",
    "from datetime import date\n",
    "from dateutil.relativedelta import relativedelta \n",
    "import datetime as dt\n",
    "\n",
    "today = date.today()\n",
    "one_years = date.today() - relativedelta(months=+36)\n",
    "df = yf.download('BZ=F', start=one_years, end=dt.datetime.now(), progress=False)\n",
    "df.head()"
   ]
  },
  {
   "cell_type": "code",
   "execution_count": 3,
   "id": "30fa4287",
   "metadata": {
    "execution": {
     "iopub.execute_input": "2023-01-25T08:23:17.054194Z",
     "iopub.status.busy": "2023-01-25T08:23:17.053597Z",
     "iopub.status.idle": "2023-01-25T08:23:17.061853Z",
     "shell.execute_reply": "2023-01-25T08:23:17.060538Z"
    },
    "papermill": {
     "duration": 0.020066,
     "end_time": "2023-01-25T08:23:17.064426",
     "exception": false,
     "start_time": "2023-01-25T08:23:17.044360",
     "status": "completed"
    },
    "tags": []
   },
   "outputs": [
    {
     "data": {
      "text/plain": [
       "datetime.date(2023, 1, 25)"
      ]
     },
     "execution_count": 3,
     "metadata": {},
     "output_type": "execute_result"
    }
   ],
   "source": [
    "date.today()"
   ]
  },
  {
   "cell_type": "code",
   "execution_count": 4,
   "id": "b6648552",
   "metadata": {
    "execution": {
     "iopub.execute_input": "2023-01-25T08:23:17.083466Z",
     "iopub.status.busy": "2023-01-25T08:23:17.082577Z",
     "iopub.status.idle": "2023-01-25T08:23:17.095083Z",
     "shell.execute_reply": "2023-01-25T08:23:17.093985Z"
    },
    "id": "j683kCHOozVC",
    "outputId": "699c00cb-9b86-49f0-ce25-9455283f6df3",
    "papermill": {
     "duration": 0.024578,
     "end_time": "2023-01-25T08:23:17.097525",
     "exception": false,
     "start_time": "2023-01-25T08:23:17.072947",
     "status": "completed"
    },
    "tags": []
   },
   "outputs": [
    {
     "data": {
      "text/html": [
       "<div>\n",
       "<style scoped>\n",
       "    .dataframe tbody tr th:only-of-type {\n",
       "        vertical-align: middle;\n",
       "    }\n",
       "\n",
       "    .dataframe tbody tr th {\n",
       "        vertical-align: top;\n",
       "    }\n",
       "\n",
       "    .dataframe thead th {\n",
       "        text-align: right;\n",
       "    }\n",
       "</style>\n",
       "<table border=\"1\" class=\"dataframe\">\n",
       "  <thead>\n",
       "    <tr style=\"text-align: right;\">\n",
       "      <th></th>\n",
       "      <th>Close</th>\n",
       "    </tr>\n",
       "    <tr>\n",
       "      <th>Date</th>\n",
       "      <th></th>\n",
       "    </tr>\n",
       "  </thead>\n",
       "  <tbody>\n",
       "    <tr>\n",
       "      <th>2020-01-27 00:00:00-05:00</th>\n",
       "      <td>59.320000</td>\n",
       "    </tr>\n",
       "    <tr>\n",
       "      <th>2020-01-28 00:00:00-05:00</th>\n",
       "      <td>59.509998</td>\n",
       "    </tr>\n",
       "    <tr>\n",
       "      <th>2020-01-29 00:00:00-05:00</th>\n",
       "      <td>59.810001</td>\n",
       "    </tr>\n",
       "    <tr>\n",
       "      <th>2020-01-30 00:00:00-05:00</th>\n",
       "      <td>58.290001</td>\n",
       "    </tr>\n",
       "    <tr>\n",
       "      <th>2020-01-31 00:00:00-05:00</th>\n",
       "      <td>58.160000</td>\n",
       "    </tr>\n",
       "  </tbody>\n",
       "</table>\n",
       "</div>"
      ],
      "text/plain": [
       "                               Close\n",
       "Date                                \n",
       "2020-01-27 00:00:00-05:00  59.320000\n",
       "2020-01-28 00:00:00-05:00  59.509998\n",
       "2020-01-29 00:00:00-05:00  59.810001\n",
       "2020-01-30 00:00:00-05:00  58.290001\n",
       "2020-01-31 00:00:00-05:00  58.160000"
      ]
     },
     "execution_count": 4,
     "metadata": {},
     "output_type": "execute_result"
    }
   ],
   "source": [
    "del df['Open'], df['High'], df['Low'], df['Adj Close'], df['Volume']\n",
    "df.head()"
   ]
  },
  {
   "cell_type": "code",
   "execution_count": 5,
   "id": "19daaf70",
   "metadata": {
    "execution": {
     "iopub.execute_input": "2023-01-25T08:23:17.116169Z",
     "iopub.status.busy": "2023-01-25T08:23:17.115472Z",
     "iopub.status.idle": "2023-01-25T08:23:17.529134Z",
     "shell.execute_reply": "2023-01-25T08:23:17.527967Z"
    },
    "id": "7udyfa91paAp",
    "outputId": "ad9f4a2d-56f3-4908-b743-e38062dcb0bd",
    "papermill": {
     "duration": 0.425775,
     "end_time": "2023-01-25T08:23:17.531598",
     "exception": false,
     "start_time": "2023-01-25T08:23:17.105823",
     "status": "completed"
    },
    "tags": []
   },
   "outputs": [
    {
     "data": {
      "text/plain": [
       "Text(0.5, 1.0, 'Crude Oil Price')"
      ]
     },
     "execution_count": 5,
     "metadata": {},
     "output_type": "execute_result"
    },
    {
     "data": {
      "image/png": "[encoded data removed]",
      "text/plain": [
       "<Figure size 720x360 with 1 Axes>"
      ]
     },
     "metadata": {
      "needs_background": "light"
     },
     "output_type": "display_data"
    }
   ],
   "source": [
    "import matplotlib.pyplot as plt\n",
    "\n",
    "df['Close'].plot(figsize=(10,5))\n",
    "plt.ylabel('Price',fontweight='bold')\n",
    "plt.xlabel('Date',fontweight='bold')\n",
    "plt.title('Crude Oil Price',fontweight='bold')"
   ]
  },
  {
   "cell_type": "code",
   "execution_count": 6,
   "id": "a0bb7938",
   "metadata": {
    "execution": {
     "iopub.execute_input": "2023-01-25T08:23:17.553152Z",
     "iopub.status.busy": "2023-01-25T08:23:17.552461Z",
     "iopub.status.idle": "2023-01-25T08:23:17.560478Z",
     "shell.execute_reply": "2023-01-25T08:23:17.559087Z"
    },
    "id": "tQDY_K_2pkNg",
    "outputId": "b4ed4a0b-79de-45ac-e1e8-8f9e30f77c7d",
    "papermill": {
     "duration": 0.021249,
     "end_time": "2023-01-25T08:23:17.563495",
     "exception": false,
     "start_time": "2023-01-25T08:23:17.542246",
     "status": "completed"
    },
    "tags": []
   },
   "outputs": [
    {
     "name": "stdout",
     "output_type": "stream",
     "text": [
      "Train :  680\n",
      "Test :  76\n"
     ]
    }
   ],
   "source": [
    "train_size = int(len(df) * 0.9)\n",
    "test_size = len(df) - train_size\n",
    "print(\"Train : \",train_size)\n",
    "print(\"Test : \",test_size)"
   ]
  },
  {
   "cell_type": "code",
   "execution_count": 7,
   "id": "0094f849",
   "metadata": {
    "execution": {
     "iopub.execute_input": "2023-01-25T08:23:17.583354Z",
     "iopub.status.busy": "2023-01-25T08:23:17.582972Z",
     "iopub.status.idle": "2023-01-25T08:23:17.596069Z",
     "shell.execute_reply": "2023-01-25T08:23:17.594776Z"
    },
    "id": "OubgOZTZpn5Y",
    "outputId": "bb945d22-f917-471b-b52e-351f88b43104",
    "papermill": {
     "duration": 0.025689,
     "end_time": "2023-01-25T08:23:17.598387",
     "exception": false,
     "start_time": "2023-01-25T08:23:17.572698",
     "status": "completed"
    },
    "tags": []
   },
   "outputs": [
    {
     "data": {
      "text/html": [
       "<div>\n",
       "<style scoped>\n",
       "    .dataframe tbody tr th:only-of-type {\n",
       "        vertical-align: middle;\n",
       "    }\n",
       "\n",
       "    .dataframe tbody tr th {\n",
       "        vertical-align: top;\n",
       "    }\n",
       "\n",
       "    .dataframe thead th {\n",
       "        text-align: right;\n",
       "    }\n",
       "</style>\n",
       "<table border=\"1\" class=\"dataframe\">\n",
       "  <thead>\n",
       "    <tr style=\"text-align: right;\">\n",
       "      <th></th>\n",
       "      <th>Close</th>\n",
       "    </tr>\n",
       "    <tr>\n",
       "      <th>Date</th>\n",
       "      <th></th>\n",
       "    </tr>\n",
       "  </thead>\n",
       "  <tbody>\n",
       "    <tr>\n",
       "      <th>2020-01-27 00:00:00-05:00</th>\n",
       "      <td>59.320000</td>\n",
       "    </tr>\n",
       "    <tr>\n",
       "      <th>2020-01-28 00:00:00-05:00</th>\n",
       "      <td>59.509998</td>\n",
       "    </tr>\n",
       "    <tr>\n",
       "      <th>2020-01-29 00:00:00-05:00</th>\n",
       "      <td>59.810001</td>\n",
       "    </tr>\n",
       "    <tr>\n",
       "      <th>2020-01-30 00:00:00-05:00</th>\n",
       "      <td>58.290001</td>\n",
       "    </tr>\n",
       "    <tr>\n",
       "      <th>2020-01-31 00:00:00-05:00</th>\n",
       "      <td>58.160000</td>\n",
       "    </tr>\n",
       "    <tr>\n",
       "      <th>...</th>\n",
       "      <td>...</td>\n",
       "    </tr>\n",
       "    <tr>\n",
       "      <th>2022-09-30 00:00:00-04:00</th>\n",
       "      <td>87.959999</td>\n",
       "    </tr>\n",
       "    <tr>\n",
       "      <th>2022-10-03 00:00:00-04:00</th>\n",
       "      <td>88.860001</td>\n",
       "    </tr>\n",
       "    <tr>\n",
       "      <th>2022-10-04 00:00:00-04:00</th>\n",
       "      <td>91.800003</td>\n",
       "    </tr>\n",
       "    <tr>\n",
       "      <th>2022-10-05 00:00:00-04:00</th>\n",
       "      <td>93.370003</td>\n",
       "    </tr>\n",
       "    <tr>\n",
       "      <th>2022-10-06 00:00:00-04:00</th>\n",
       "      <td>94.419998</td>\n",
       "    </tr>\n",
       "  </tbody>\n",
       "</table>\n",
       "<p>680 rows × 1 columns</p>\n",
       "</div>"
      ],
      "text/plain": [
       "                               Close\n",
       "Date                                \n",
       "2020-01-27 00:00:00-05:00  59.320000\n",
       "2020-01-28 00:00:00-05:00  59.509998\n",
       "2020-01-29 00:00:00-05:00  59.810001\n",
       "2020-01-30 00:00:00-05:00  58.290001\n",
       "2020-01-31 00:00:00-05:00  58.160000\n",
       "...                              ...\n",
       "2022-09-30 00:00:00-04:00  87.959999\n",
       "2022-10-03 00:00:00-04:00  88.860001\n",
       "2022-10-04 00:00:00-04:00  91.800003\n",
       "2022-10-05 00:00:00-04:00  93.370003\n",
       "2022-10-06 00:00:00-04:00  94.419998\n",
       "\n",
       "[680 rows x 1 columns]"
      ]
     },
     "execution_count": 7,
     "metadata": {},
     "output_type": "execute_result"
    }
   ],
   "source": [
    "train = df.iloc[:train_size]\n",
    "train"
   ]
  },
  {
   "cell_type": "code",
   "execution_count": 8,
   "id": "54b76161",
   "metadata": {
    "execution": {
     "iopub.execute_input": "2023-01-25T08:23:17.618085Z",
     "iopub.status.busy": "2023-01-25T08:23:17.617668Z",
     "iopub.status.idle": "2023-01-25T08:23:17.630288Z",
     "shell.execute_reply": "2023-01-25T08:23:17.629156Z"
    },
    "id": "3MyHQ3ZupqHx",
    "outputId": "8b902d73-d236-4cb9-a021-e5cdfb125aec",
    "papermill": {
     "duration": 0.025417,
     "end_time": "2023-01-25T08:23:17.632710",
     "exception": false,
     "start_time": "2023-01-25T08:23:17.607293",
     "status": "completed"
    },
    "tags": []
   },
   "outputs": [
    {
     "data": {
      "text/html": [
       "<div>\n",
       "<style scoped>\n",
       "    .dataframe tbody tr th:only-of-type {\n",
       "        vertical-align: middle;\n",
       "    }\n",
       "\n",
       "    .dataframe tbody tr th {\n",
       "        vertical-align: top;\n",
       "    }\n",
       "\n",
       "    .dataframe thead th {\n",
       "        text-align: right;\n",
       "    }\n",
       "</style>\n",
       "<table border=\"1\" class=\"dataframe\">\n",
       "  <thead>\n",
       "    <tr style=\"text-align: right;\">\n",
       "      <th></th>\n",
       "      <th>Close</th>\n",
       "    </tr>\n",
       "    <tr>\n",
       "      <th>Date</th>\n",
       "      <th></th>\n",
       "    </tr>\n",
       "  </thead>\n",
       "  <tbody>\n",
       "    <tr>\n",
       "      <th>2022-10-07 00:00:00-04:00</th>\n",
       "      <td>97.919998</td>\n",
       "    </tr>\n",
       "    <tr>\n",
       "      <th>2022-10-10 00:00:00-04:00</th>\n",
       "      <td>96.190002</td>\n",
       "    </tr>\n",
       "    <tr>\n",
       "      <th>2022-10-11 00:00:00-04:00</th>\n",
       "      <td>94.290001</td>\n",
       "    </tr>\n",
       "    <tr>\n",
       "      <th>2022-10-12 00:00:00-04:00</th>\n",
       "      <td>92.449997</td>\n",
       "    </tr>\n",
       "    <tr>\n",
       "      <th>2022-10-13 00:00:00-04:00</th>\n",
       "      <td>94.570000</td>\n",
       "    </tr>\n",
       "    <tr>\n",
       "      <th>...</th>\n",
       "      <td>...</td>\n",
       "    </tr>\n",
       "    <tr>\n",
       "      <th>2023-01-19 00:00:00-05:00</th>\n",
       "      <td>86.160004</td>\n",
       "    </tr>\n",
       "    <tr>\n",
       "      <th>2023-01-20 00:00:00-05:00</th>\n",
       "      <td>87.629997</td>\n",
       "    </tr>\n",
       "    <tr>\n",
       "      <th>2023-01-23 00:00:00-05:00</th>\n",
       "      <td>88.190002</td>\n",
       "    </tr>\n",
       "    <tr>\n",
       "      <th>2023-01-24 00:00:00-05:00</th>\n",
       "      <td>86.129997</td>\n",
       "    </tr>\n",
       "    <tr>\n",
       "      <th>2023-01-25 00:00:00-05:00</th>\n",
       "      <td>86.260002</td>\n",
       "    </tr>\n",
       "  </tbody>\n",
       "</table>\n",
       "<p>76 rows × 1 columns</p>\n",
       "</div>"
      ],
      "text/plain": [
       "                               Close\n",
       "Date                                \n",
       "2022-10-07 00:00:00-04:00  97.919998\n",
       "2022-10-10 00:00:00-04:00  96.190002\n",
       "2022-10-11 00:00:00-04:00  94.290001\n",
       "2022-10-12 00:00:00-04:00  92.449997\n",
       "2022-10-13 00:00:00-04:00  94.570000\n",
       "...                              ...\n",
       "2023-01-19 00:00:00-05:00  86.160004\n",
       "2023-01-20 00:00:00-05:00  87.629997\n",
       "2023-01-23 00:00:00-05:00  88.190002\n",
       "2023-01-24 00:00:00-05:00  86.129997\n",
       "2023-01-25 00:00:00-05:00  86.260002\n",
       "\n",
       "[76 rows x 1 columns]"
      ]
     },
     "execution_count": 8,
     "metadata": {},
     "output_type": "execute_result"
    }
   ],
   "source": [
    "test = df.iloc[train_size:]\n",
    "test"
   ]
  },
  {
   "cell_type": "code",
   "execution_count": 9,
   "id": "c6b207a6",
   "metadata": {
    "execution": {
     "iopub.execute_input": "2023-01-25T08:23:17.652893Z",
     "iopub.status.busy": "2023-01-25T08:23:17.652465Z",
     "iopub.status.idle": "2023-01-25T08:23:18.796294Z",
     "shell.execute_reply": "2023-01-25T08:23:18.795113Z"
    },
    "id": "QSmXq-TppsxA",
    "papermill": {
     "duration": 1.157557,
     "end_time": "2023-01-25T08:23:18.799586",
     "exception": false,
     "start_time": "2023-01-25T08:23:17.642029",
     "status": "completed"
    },
    "tags": []
   },
   "outputs": [],
   "source": [
    "from sklearn.preprocessing import MinMaxScaler\n",
    "\n",
    "scaler = MinMaxScaler()\n",
    "scaler.fit(train)\n",
    "scaled_train = scaler.transform(train)\n",
    "scaled_test = scaler.transform(test)"
   ]
  },
  {
   "cell_type": "code",
   "execution_count": 10,
   "id": "a7fb0a78",
   "metadata": {
    "execution": {
     "iopub.execute_input": "2023-01-25T08:23:18.826202Z",
     "iopub.status.busy": "2023-01-25T08:23:18.825641Z",
     "iopub.status.idle": "2023-01-25T08:23:24.917503Z",
     "shell.execute_reply": "2023-01-25T08:23:24.916241Z"
    },
    "id": "LDk0BHqhpyrN",
    "papermill": {
     "duration": 6.10684,
     "end_time": "2023-01-25T08:23:24.920183",
     "exception": false,
     "start_time": "2023-01-25T08:23:18.813343",
     "status": "completed"
    },
    "tags": []
   },
   "outputs": [],
   "source": [
    "from tensorflow.keras.preprocessing.sequence import TimeseriesGenerator\n",
    "\n",
    "length = 25\n",
    "n_features = 1\n",
    "\n",
    "time_series_generator = TimeseriesGenerator(scaled_train, scaled_train, length=length, batch_size=1)\n",
    "time_series_val_generator = TimeseriesGenerator(scaled_test,scaled_test, length=length, batch_size=1)"
   ]
  },
  {
   "cell_type": "code",
   "execution_count": 11,
   "id": "18fb7e9a",
   "metadata": {
    "execution": {
     "iopub.execute_input": "2023-01-25T08:23:24.940581Z",
     "iopub.status.busy": "2023-01-25T08:23:24.939840Z",
     "iopub.status.idle": "2023-01-25T08:23:25.178803Z",
     "shell.execute_reply": "2023-01-25T08:23:25.177253Z"
    },
    "id": "qWwUutAor3xi",
    "papermill": {
     "duration": 0.251811,
     "end_time": "2023-01-25T08:23:25.181287",
     "exception": false,
     "start_time": "2023-01-25T08:23:24.929476",
     "status": "completed"
    },
    "tags": []
   },
   "outputs": [
    {
     "name": "stderr",
     "output_type": "stream",
     "text": [
      "2023-01-25 08:23:24.980372: I tensorflow/core/common_runtime/process_util.cc:146] Creating new thread pool with default inter op setting: 2. Tune using inter_op_parallelism_threads for best performance.\n"
     ]
    }
   ],
   "source": [
    "from tensorflow.keras.models import Sequential\n",
    "from tensorflow.keras.layers import Dense,LSTM\n",
    "from tensorflow.keras import initializers\n",
    "import tensorflow as tf\n",
    "\n",
    "initializer = tf.keras.initializers.he_uniform(seed=0)\n",
    "\n",
    "model = Sequential()\n",
    "model.add(LSTM(25, activation='relu', input_shape=(length, n_features), kernel_initializer=initializer, bias_initializer=initializers.Constant(0.01)))\n",
    "model.add(Dense(1,activation='linear', kernel_initializer=initializer, bias_initializer=initializers.Constant(0.01)))\n",
    "opt = tf.keras.optimizers.Adam(learning_rate = 0.001, beta_1 = 0.9, beta_2 = 0.999, epsilon = 1e-8)\n",
    "model.compile(optimizer=opt, loss='mse')"
   ]
  },
  {
   "cell_type": "code",
   "execution_count": 12,
   "id": "bbcbcb12",
   "metadata": {
    "execution": {
     "iopub.execute_input": "2023-01-25T08:23:25.202699Z",
     "iopub.status.busy": "2023-01-25T08:23:25.202323Z",
     "iopub.status.idle": "2023-01-25T08:24:35.163033Z",
     "shell.execute_reply": "2023-01-25T08:24:35.161687Z"
    },
    "id": "pHD6rNnqr87b",
    "outputId": "019d5860-c27f-4711-c661-4e43722520bd",
    "papermill": {
     "duration": 69.975009,
     "end_time": "2023-01-25T08:24:35.165665",
     "exception": false,
     "start_time": "2023-01-25T08:23:25.190656",
     "status": "completed"
    },
    "tags": []
   },
   "outputs": [
    {
     "name": "stderr",
     "output_type": "stream",
     "text": [
      "/opt/conda/lib/python3.7/site-packages/keras/engine/training.py:1972: UserWarning: `Model.fit_generator` is deprecated and will be removed in a future version. Please use `Model.fit`, which supports generators.\n",
      "  warnings.warn('`Model.fit_generator` is deprecated and '\n",
      "2023-01-25 08:23:25.273168: I tensorflow/compiler/mlir/mlir_graph_optimization_pass.cc:185] None of the MLIR Optimization Passes are enabled (registered 2)\n"
     ]
    },
    {
     "name": "stdout",
     "output_type": "stream",
     "text": [
      "Epoch 1/100\n",
      "655/655 [==============================] - 6s 7ms/step - loss: 0.0205 - val_loss: 0.0022\n",
      "Epoch 2/100\n",
      "655/655 [==============================] - 4s 7ms/step - loss: 0.0019 - val_loss: 6.8079e-04\n",
      "Epoch 3/100\n",
      "655/655 [==============================] - 4s 7ms/step - loss: 0.0013 - val_loss: 0.0014\n",
      "Epoch 4/100\n",
      "655/655 [==============================] - 4s 6ms/step - loss: 9.1761e-04 - val_loss: 3.5460e-04\n",
      "Epoch 5/100\n",
      "655/655 [==============================] - 5s 7ms/step - loss: 7.7709e-04 - val_loss: 6.4527e-04\n",
      "Epoch 6/100\n",
      "655/655 [==============================] - 4s 6ms/step - loss: 8.1171e-04 - val_loss: 0.0066\n",
      "Epoch 7/100\n",
      "655/655 [==============================] - 4s 7ms/step - loss: 9.5290e-04 - val_loss: 6.1340e-04\n",
      "Epoch 8/100\n",
      "655/655 [==============================] - 4s 7ms/step - loss: 7.3262e-04 - val_loss: 8.4737e-04\n",
      "Epoch 9/100\n",
      "655/655 [==============================] - 4s 7ms/step - loss: 7.6810e-04 - val_loss: 3.9232e-04\n",
      "Epoch 10/100\n",
      "655/655 [==============================] - 4s 7ms/step - loss: 7.6081e-04 - val_loss: 6.0349e-04\n",
      "Epoch 11/100\n",
      "655/655 [==============================] - 4s 6ms/step - loss: 6.3765e-04 - val_loss: 5.3600e-04\n",
      "Epoch 12/100\n",
      "655/655 [==============================] - 5s 7ms/step - loss: 7.0000e-04 - val_loss: 6.6814e-04\n",
      "Epoch 13/100\n",
      "655/655 [==============================] - 4s 7ms/step - loss: 6.6504e-04 - val_loss: 4.8999e-04\n",
      "Epoch 14/100\n",
      "655/655 [==============================] - 4s 7ms/step - loss: 6.3272e-04 - val_loss: 3.5827e-04\n",
      "Epoch 00014: early stopping\n"
     ]
    },
    {
     "data": {
      "text/plain": [
       "<keras.callbacks.History at 0x7f76f8168350>"
      ]
     },
     "execution_count": 12,
     "metadata": {},
     "output_type": "execute_result"
    }
   ],
   "source": [
    "from tensorflow.keras.callbacks import EarlyStopping\n",
    "\n",
    "Early_Stopping = EarlyStopping(monitor='val_loss',mode='min',verbose=1,patience=10)\n",
    "\n",
    "model.fit_generator(time_series_generator, epochs=100, validation_data=time_series_val_generator, callbacks=[Early_Stopping])"
   ]
  },
  {
   "cell_type": "code",
   "execution_count": 13,
   "id": "50340345",
   "metadata": {
    "execution": {
     "iopub.execute_input": "2023-01-25T08:24:35.325316Z",
     "iopub.status.busy": "2023-01-25T08:24:35.324550Z",
     "iopub.status.idle": "2023-01-25T08:24:36.199775Z",
     "shell.execute_reply": "2023-01-25T08:24:36.198948Z"
    },
    "id": "k9tLQeOZrkcS",
    "outputId": "6aac282f-9a8d-40bf-d534-a60d6e8a4fb6",
    "papermill": {
     "duration": 0.957976,
     "end_time": "2023-01-25T08:24:36.202080",
     "exception": false,
     "start_time": "2023-01-25T08:24:35.244104",
     "status": "completed"
    },
    "tags": []
   },
   "outputs": [
    {
     "data": {
      "text/plain": [
       "Text(0, 0.5, \"Loss-'MSE'\")"
      ]
     },
     "execution_count": 13,
     "metadata": {},
     "output_type": "execute_result"
    },
    {
     "data": {
      "image/png": "[encoded data removed]",
      "text/plain": [
       "<Figure size 432x288 with 1 Axes>"
      ]
     },
     "metadata": {
      "needs_background": "light"
     },
     "output_type": "display_data"
    }
   ],
   "source": [
    "import pandas as pd\n",
    "\n",
    "loss = pd.DataFrame(model.history.history)\n",
    "loss.plot()\n",
    "plt.title('LSTM Training & Validation Loss',fontweight='bold')\n",
    "plt.xlabel('Epochs',fontweight='bold')\n",
    "plt.ylabel(\"Loss-'MSE'\",fontweight='bold')"
   ]
  },
  {
   "cell_type": "code",
   "execution_count": 14,
   "id": "33621e4e",
   "metadata": {
    "execution": {
     "iopub.execute_input": "2023-01-25T08:24:36.362844Z",
     "iopub.status.busy": "2023-01-25T08:24:36.362159Z",
     "iopub.status.idle": "2023-01-25T08:24:40.926278Z",
     "shell.execute_reply": "2023-01-25T08:24:40.925169Z"
    },
    "id": "yyKI6tU6sdaj",
    "outputId": "ea86a3b1-eef3-460e-87ce-4a7b1ff3b2dd",
    "papermill": {
     "duration": 4.646846,
     "end_time": "2023-01-25T08:24:40.928989",
     "exception": false,
     "start_time": "2023-01-25T08:24:36.282143",
     "status": "completed"
    },
    "tags": []
   },
   "outputs": [],
   "source": [
    "import numpy as np\n",
    "\n",
    "test_outputs = []\n",
    "batch = scaled_test[:length].reshape((1, length, n_features))\n",
    "\n",
    "for i in range(len(scaled_test)):\n",
    "    test_out = model.predict(batch)[0]\n",
    "    test_outputs.append(test_out) \n",
    "    batch = np.append(batch[:,1:,:],[[scaled_test[i]]],axis=1)"
   ]
  },
  {
   "cell_type": "code",
   "execution_count": 15,
   "id": "1878c0f3",
   "metadata": {
    "execution": {
     "iopub.execute_input": "2023-01-25T08:24:41.090062Z",
     "iopub.status.busy": "2023-01-25T08:24:41.089620Z",
     "iopub.status.idle": "2023-01-25T08:24:41.095695Z",
     "shell.execute_reply": "2023-01-25T08:24:41.094425Z"
    },
    "id": "9ve6PPrWsrTz",
    "papermill": {
     "duration": 0.090009,
     "end_time": "2023-01-25T08:24:41.098194",
     "exception": false,
     "start_time": "2023-01-25T08:24:41.008185",
     "status": "completed"
    },
    "tags": []
   },
   "outputs": [],
   "source": [
    "actual_test=scaled_test\n",
    "actual_test=scaler.inverse_transform(actual_test)"
   ]
  },
  {
   "cell_type": "code",
   "execution_count": 16,
   "id": "b707ef6d",
   "metadata": {
    "execution": {
     "iopub.execute_input": "2023-01-25T08:24:41.261445Z",
     "iopub.status.busy": "2023-01-25T08:24:41.261034Z",
     "iopub.status.idle": "2023-01-25T08:24:41.267475Z",
     "shell.execute_reply": "2023-01-25T08:24:41.266363Z"
    },
    "id": "nGpapxeCtDI6",
    "papermill": {
     "duration": 0.093004,
     "end_time": "2023-01-25T08:24:41.269641",
     "exception": false,
     "start_time": "2023-01-25T08:24:41.176637",
     "status": "completed"
    },
    "tags": []
   },
   "outputs": [],
   "source": [
    "test_predictions=scaler.inverse_transform(test_outputs)"
   ]
  },
  {
   "cell_type": "code",
   "execution_count": 17,
   "id": "21dde006",
   "metadata": {
    "execution": {
     "iopub.execute_input": "2023-01-25T08:24:41.430495Z",
     "iopub.status.busy": "2023-01-25T08:24:41.429687Z",
     "iopub.status.idle": "2023-01-25T08:24:41.712918Z",
     "shell.execute_reply": "2023-01-25T08:24:41.711024Z"
    },
    "id": "MDsnyUmbtLUA",
    "outputId": "2c0a7474-08b9-44d4-c629-60e25ac2900f",
    "papermill": {
     "duration": 0.369958,
     "end_time": "2023-01-25T08:24:41.718250",
     "exception": false,
     "start_time": "2023-01-25T08:24:41.348292",
     "status": "completed"
    },
    "tags": []
   },
   "outputs": [
    {
     "data": {
      "image/png": "[encoded data removed]",
      "text/plain": [
       "<Figure size 720x432 with 1 Axes>"
      ]
     },
     "metadata": {
      "needs_background": "light"
     },
     "output_type": "display_data"
    }
   ],
   "source": [
    "plt.figure(figsize=(10,6))\n",
    "plt.plot(actual_test,marker='o',linestyle='-')\n",
    "\n",
    "plt.plot(test_predictions,marker='o',linestyle='dashed')\n",
    "plt.title('LSTM Testing Performance - Actual vs. Predicted Training Values',fontweight='bold')\n",
    "plt.legend(('Actual_Test_Values','Predicted_Train_Values'))\n",
    "plt.xlabel('Crude Oil Price',fontweight='bold')\n",
    "plt.ylabel('Date',fontweight='bold');"
   ]
  },
  {
   "cell_type": "code",
   "execution_count": 18,
   "id": "abafd1a8",
   "metadata": {
    "execution": {
     "iopub.execute_input": "2023-01-25T08:24:41.884453Z",
     "iopub.status.busy": "2023-01-25T08:24:41.884045Z",
     "iopub.status.idle": "2023-01-25T08:24:41.902565Z",
     "shell.execute_reply": "2023-01-25T08:24:41.901250Z"
    },
    "id": "ZMcQT0fsum5p",
    "outputId": "813e349f-6b63-4df7-e3a2-813012d393d5",
    "papermill": {
     "duration": 0.103267,
     "end_time": "2023-01-25T08:24:41.905225",
     "exception": false,
     "start_time": "2023-01-25T08:24:41.801958",
     "status": "completed"
    },
    "tags": []
   },
   "outputs": [
    {
     "name": "stderr",
     "output_type": "stream",
     "text": [
      "/opt/conda/lib/python3.7/site-packages/ipykernel_launcher.py:1: SettingWithCopyWarning: \n",
      "A value is trying to be set on a copy of a slice from a DataFrame.\n",
      "Try using .loc[row_indexer,col_indexer] = value instead\n",
      "\n",
      "See the caveats in the documentation: https://pandas.pydata.org/pandas-docs/stable/user_guide/indexing.html#returning-a-view-versus-a-copy\n",
      "  \"\"\"Entry point for launching an IPython kernel.\n"
     ]
    },
    {
     "data": {
      "text/html": [
       "<div>\n",
       "<style scoped>\n",
       "    .dataframe tbody tr th:only-of-type {\n",
       "        vertical-align: middle;\n",
       "    }\n",
       "\n",
       "    .dataframe tbody tr th {\n",
       "        vertical-align: top;\n",
       "    }\n",
       "\n",
       "    .dataframe thead th {\n",
       "        text-align: right;\n",
       "    }\n",
       "</style>\n",
       "<table border=\"1\" class=\"dataframe\">\n",
       "  <thead>\n",
       "    <tr style=\"text-align: right;\">\n",
       "      <th></th>\n",
       "      <th>Close</th>\n",
       "      <th>LSTM Predictions</th>\n",
       "    </tr>\n",
       "    <tr>\n",
       "      <th>Date</th>\n",
       "      <th></th>\n",
       "      <th></th>\n",
       "    </tr>\n",
       "  </thead>\n",
       "  <tbody>\n",
       "    <tr>\n",
       "      <th>2022-10-07 00:00:00-04:00</th>\n",
       "      <td>97.919998</td>\n",
       "      <td>92.914021</td>\n",
       "    </tr>\n",
       "    <tr>\n",
       "      <th>2022-10-10 00:00:00-04:00</th>\n",
       "      <td>96.190002</td>\n",
       "      <td>97.213091</td>\n",
       "    </tr>\n",
       "    <tr>\n",
       "      <th>2022-10-11 00:00:00-04:00</th>\n",
       "      <td>94.290001</td>\n",
       "      <td>95.505261</td>\n",
       "    </tr>\n",
       "    <tr>\n",
       "      <th>2022-10-12 00:00:00-04:00</th>\n",
       "      <td>92.449997</td>\n",
       "      <td>93.634500</td>\n",
       "    </tr>\n",
       "    <tr>\n",
       "      <th>2022-10-13 00:00:00-04:00</th>\n",
       "      <td>94.570000</td>\n",
       "      <td>91.770002</td>\n",
       "    </tr>\n",
       "    <tr>\n",
       "      <th>...</th>\n",
       "      <td>...</td>\n",
       "      <td>...</td>\n",
       "    </tr>\n",
       "    <tr>\n",
       "      <th>2023-01-19 00:00:00-05:00</th>\n",
       "      <td>86.160004</td>\n",
       "      <td>84.307163</td>\n",
       "    </tr>\n",
       "    <tr>\n",
       "      <th>2023-01-20 00:00:00-05:00</th>\n",
       "      <td>87.629997</td>\n",
       "      <td>85.394510</td>\n",
       "    </tr>\n",
       "    <tr>\n",
       "      <th>2023-01-23 00:00:00-05:00</th>\n",
       "      <td>88.190002</td>\n",
       "      <td>86.844989</td>\n",
       "    </tr>\n",
       "    <tr>\n",
       "      <th>2023-01-24 00:00:00-05:00</th>\n",
       "      <td>86.129997</td>\n",
       "      <td>87.481824</td>\n",
       "    </tr>\n",
       "    <tr>\n",
       "      <th>2023-01-25 00:00:00-05:00</th>\n",
       "      <td>86.260002</td>\n",
       "      <td>85.546749</td>\n",
       "    </tr>\n",
       "  </tbody>\n",
       "</table>\n",
       "<p>76 rows × 2 columns</p>\n",
       "</div>"
      ],
      "text/plain": [
       "                               Close  LSTM Predictions\n",
       "Date                                                  \n",
       "2022-10-07 00:00:00-04:00  97.919998         92.914021\n",
       "2022-10-10 00:00:00-04:00  96.190002         97.213091\n",
       "2022-10-11 00:00:00-04:00  94.290001         95.505261\n",
       "2022-10-12 00:00:00-04:00  92.449997         93.634500\n",
       "2022-10-13 00:00:00-04:00  94.570000         91.770002\n",
       "...                              ...               ...\n",
       "2023-01-19 00:00:00-05:00  86.160004         84.307163\n",
       "2023-01-20 00:00:00-05:00  87.629997         85.394510\n",
       "2023-01-23 00:00:00-05:00  88.190002         86.844989\n",
       "2023-01-24 00:00:00-05:00  86.129997         87.481824\n",
       "2023-01-25 00:00:00-05:00  86.260002         85.546749\n",
       "\n",
       "[76 rows x 2 columns]"
      ]
     },
     "execution_count": 18,
     "metadata": {},
     "output_type": "execute_result"
    }
   ],
   "source": [
    "test['LSTM Predictions'] = test_predictions\n",
    "test"
   ]
  },
  {
   "cell_type": "code",
   "execution_count": 19,
   "id": "810a4209",
   "metadata": {
    "execution": {
     "iopub.execute_input": "2023-01-25T08:24:42.071457Z",
     "iopub.status.busy": "2023-01-25T08:24:42.070434Z",
     "iopub.status.idle": "2023-01-25T08:24:42.487624Z",
     "shell.execute_reply": "2023-01-25T08:24:42.486372Z"
    },
    "id": "G6LG2iVvuvT_",
    "outputId": "f77bbfc2-0dc9-4a6a-b040-ac08ed0d5a8a",
    "papermill": {
     "duration": 0.503914,
     "end_time": "2023-01-25T08:24:42.490222",
     "exception": false,
     "start_time": "2023-01-25T08:24:41.986308",
     "status": "completed"
    },
    "tags": []
   },
   "outputs": [
    {
     "data": {
      "image/png": "[encoded data removed]",
      "text/plain": [
       "<Figure size 864x576 with 1 Axes>"
      ]
     },
     "metadata": {
      "needs_background": "light"
     },
     "output_type": "display_data"
    }
   ],
   "source": [
    "ax=df.plot(figsize=(12,8), marker='o',linestyle='-')\n",
    "\n",
    "test['LSTM Predictions'].plot(ax=ax,legend=True, marker='o',linestyle='dashed')\n",
    "plt.title('Crude Oil Price',fontweight='bold')\n",
    "plt.ylabel('Price',fontweight='bold')\n",
    "plt.xlabel('Date',fontweight='bold');"
   ]
  },
  {
   "cell_type": "code",
   "execution_count": 20,
   "id": "e11a93f7",
   "metadata": {
    "execution": {
     "iopub.execute_input": "2023-01-25T08:24:42.654184Z",
     "iopub.status.busy": "2023-01-25T08:24:42.653751Z",
     "iopub.status.idle": "2023-01-25T08:24:42.704494Z",
     "shell.execute_reply": "2023-01-25T08:24:42.703118Z"
    },
    "id": "NH7ZqzDavhiO",
    "outputId": "0474a0ac-873b-46dc-8dc2-6c251b75b769",
    "papermill": {
     "duration": 0.135591,
     "end_time": "2023-01-25T08:24:42.707144",
     "exception": false,
     "start_time": "2023-01-25T08:24:42.571553",
     "status": "completed"
    },
    "tags": []
   },
   "outputs": [
    {
     "name": "stdout",
     "output_type": "stream",
     "text": [
      "2.0592356487133885\n"
     ]
    }
   ],
   "source": [
    "from sklearn.metrics import mean_squared_error\n",
    "\n",
    "print(np.sqrt(mean_squared_error(test['Close'],test['LSTM Predictions'])))"
   ]
  },
  {
   "cell_type": "code",
   "execution_count": 21,
   "id": "682ad145",
   "metadata": {
    "execution": {
     "iopub.execute_input": "2023-01-25T08:24:42.901603Z",
     "iopub.status.busy": "2023-01-25T08:24:42.901199Z",
     "iopub.status.idle": "2023-01-25T08:24:43.281038Z",
     "shell.execute_reply": "2023-01-25T08:24:43.279957Z"
    },
    "papermill": {
     "duration": 0.469659,
     "end_time": "2023-01-25T08:24:43.283931",
     "exception": false,
     "start_time": "2023-01-25T08:24:42.814272",
     "status": "completed"
    },
    "tags": []
   },
   "outputs": [],
   "source": [
    "outputs = []\n",
    "batch = scaled_test[:length].reshape((1, length, n_features))\n",
    "\n",
    "for i in range(7):\n",
    "    test_out = model.predict(batch)[0]\n",
    "    outputs.append(test_out) \n",
    "    batch = np.append(batch[:,1:,:],[[scaled_test[i]]],axis=1)"
   ]
  },
  {
   "cell_type": "code",
   "execution_count": 22,
   "id": "a8f72eb6",
   "metadata": {
    "execution": {
     "iopub.execute_input": "2023-01-25T08:24:43.457892Z",
     "iopub.status.busy": "2023-01-25T08:24:43.456744Z",
     "iopub.status.idle": "2023-01-25T08:24:43.462562Z",
     "shell.execute_reply": "2023-01-25T08:24:43.461210Z"
    },
    "papermill": {
     "duration": 0.09561,
     "end_time": "2023-01-25T08:24:43.465284",
     "exception": false,
     "start_time": "2023-01-25T08:24:43.369674",
     "status": "completed"
    },
    "tags": []
   },
   "outputs": [],
   "source": [
    "predictions=scaler.inverse_transform(outputs)"
   ]
  },
  {
   "cell_type": "code",
   "execution_count": 23,
   "id": "cf9fdebf",
   "metadata": {
    "execution": {
     "iopub.execute_input": "2023-01-25T08:24:43.636127Z",
     "iopub.status.busy": "2023-01-25T08:24:43.635654Z",
     "iopub.status.idle": "2023-01-25T08:24:43.650274Z",
     "shell.execute_reply": "2023-01-25T08:24:43.648448Z"
    },
    "papermill": {
     "duration": 0.102831,
     "end_time": "2023-01-25T08:24:43.653170",
     "exception": false,
     "start_time": "2023-01-25T08:24:43.550339",
     "status": "completed"
    },
    "tags": []
   },
   "outputs": [
    {
     "data": {
      "text/html": [
       "<div>\n",
       "<style scoped>\n",
       "    .dataframe tbody tr th:only-of-type {\n",
       "        vertical-align: middle;\n",
       "    }\n",
       "\n",
       "    .dataframe tbody tr th {\n",
       "        vertical-align: top;\n",
       "    }\n",
       "\n",
       "    .dataframe thead th {\n",
       "        text-align: right;\n",
       "    }\n",
       "</style>\n",
       "<table border=\"1\" class=\"dataframe\">\n",
       "  <thead>\n",
       "    <tr style=\"text-align: right;\">\n",
       "      <th></th>\n",
       "      <th>Prediction</th>\n",
       "    </tr>\n",
       "  </thead>\n",
       "  <tbody>\n",
       "    <tr>\n",
       "      <th>2023-01-25</th>\n",
       "      <td>92.914021</td>\n",
       "    </tr>\n",
       "    <tr>\n",
       "      <th>2023-01-26</th>\n",
       "      <td>97.213091</td>\n",
       "    </tr>\n",
       "    <tr>\n",
       "      <th>2023-01-27</th>\n",
       "      <td>95.505261</td>\n",
       "    </tr>\n",
       "    <tr>\n",
       "      <th>2023-01-28</th>\n",
       "      <td>93.634500</td>\n",
       "    </tr>\n",
       "    <tr>\n",
       "      <th>2023-01-29</th>\n",
       "      <td>91.770002</td>\n",
       "    </tr>\n",
       "    <tr>\n",
       "      <th>2023-01-30</th>\n",
       "      <td>93.845982</td>\n",
       "    </tr>\n",
       "    <tr>\n",
       "      <th>2023-01-31</th>\n",
       "      <td>90.954493</td>\n",
       "    </tr>\n",
       "  </tbody>\n",
       "</table>\n",
       "</div>"
      ],
      "text/plain": [
       "            Prediction\n",
       "2023-01-25   92.914021\n",
       "2023-01-26   97.213091\n",
       "2023-01-27   95.505261\n",
       "2023-01-28   93.634500\n",
       "2023-01-29   91.770002\n",
       "2023-01-30   93.845982\n",
       "2023-01-31   90.954493"
      ]
     },
     "execution_count": 23,
     "metadata": {},
     "output_type": "execute_result"
    }
   ],
   "source": [
    "pred_index = pd.date_range(start=pd.to_datetime(date.today()),periods=7,freq='D')\n",
    "df_predict = pd.DataFrame(predictions, index=pred_index, columns=['Prediction'])\n",
    "df_predict"
   ]
  },
  {
   "cell_type": "code",
   "execution_count": 24,
   "id": "0d047b40",
   "metadata": {
    "execution": {
     "iopub.execute_input": "2023-01-25T08:24:43.825718Z",
     "iopub.status.busy": "2023-01-25T08:24:43.825314Z",
     "iopub.status.idle": "2023-01-25T08:24:44.268140Z",
     "shell.execute_reply": "2023-01-25T08:24:44.266946Z"
    },
    "papermill": {
     "duration": 0.532655,
     "end_time": "2023-01-25T08:24:44.270662",
     "exception": false,
     "start_time": "2023-01-25T08:24:43.738007",
     "status": "completed"
    },
    "tags": []
   },
   "outputs": [
    {
     "data": {
      "image/png": "[encoded data removed]",
      "text/plain": [
       "<Figure size 864x576 with 1 Axes>"
      ]
     },
     "metadata": {
      "needs_background": "light"
     },
     "output_type": "display_data"
    }
   ],
   "source": [
    "ax=df.plot(figsize=(12,8), marker='o',linestyle='-')\n",
    "\n",
    "test['LSTM Predictions'].plot(ax=ax,legend=True, marker='o',linestyle='dashed')\n",
    "df_predict['Prediction'].plot(ax=ax,legend=True, marker='o')\n",
    "plt.title('Crude Oil Price',fontweight='bold')\n",
    "plt.ylabel('Price',fontweight='bold')\n",
    "plt.xlabel('Date',fontweight='bold');"
   ]
  }
 ],
 "metadata": {
  "kernelspec": {
   "display_name": "Python 3",
   "language": "python",
   "name": "python3"
  },
  "language_info": {
   "codemirror_mode": {
    "name": "ipython",
    "version": 3
   },
   "file_extension": ".py",
   "mimetype": "text/x-python",
   "name": "python",
   "nbconvert_exporter": "python",
   "pygments_lexer": "ipython3",
   "version": "3.7.12"
  },
  "papermill": {
   "default_parameters": {},
   "duration": 115.258391,
   "end_time": "2023-01-25T08:24:47.814699",
   "environment_variables": {},
   "exception": null,
   "input_path": "__notebook__.ipynb",
   "output_path": "__notebook__.ipynb",
   "parameters": {},
   "start_time": "2023-01-25T08:22:52.556308",
   "version": "2.3.4"
  }
 },
 "nbformat": 4,
 "nbformat_minor": 5
}
